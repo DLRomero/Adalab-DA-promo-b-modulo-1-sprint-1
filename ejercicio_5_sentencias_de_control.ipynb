{
 "cells": [
  {
   "cell_type": "code",
   "execution_count": 2,
   "metadata": {},
   "outputs": [
    {
     "name": "stdout",
     "output_type": "stream",
     "text": [
      "La nota es : C\n"
     ]
    }
   ],
   "source": [
    "#EJERCICIO 1 SENTENCIAS DE CONTROL\n",
    "\n",
    "# 1.-En la escuela donde trabajamos tienen el siguiente sistema de notas:\n",
    "#- Below 25 - F\n",
    "#- 25 to 45 - E\n",
    "#- 45 to 50 - D\n",
    "#- 50 to 60 - C\n",
    "#- 60 to 80 - B\n",
    "#- Above 80 - A\n",
    "#El objetivo de este ejercicio es que le preguntéis al usuario por una nota (numérica) y nosotros le devolvamos la nota con la letra que le corresponde.\n",
    "nota=input(\"Ingresa la nota\")\n",
    "nota=int(nota)\n",
    "\n",
    "if nota >=80:\n",
    "    print(\"La nota es : A\")\n",
    "elif nota >=60<=80:\n",
    "    print(\"La nota es : B\")\n",
    "elif nota >=50<=60:\n",
    "    print(\"La nota es : C\")\n",
    "elif nota >=45<=50:\n",
    "    print(\"La nota es : D\")\n",
    "elif nota >=25<=45:\n",
    "    print(\"La nota es : E\")\n",
    "elif nota <=25:\n",
    "    print(\"La nota es : F\")\n"
   ]
  },
  {
   "cell_type": "code",
   "execution_count": 41,
   "metadata": {},
   "outputs": [
    {
     "name": "stdout",
     "output_type": "stream",
     "text": [
      "El menor es  10\n",
      "El mayor es  30\n"
     ]
    }
   ],
   "source": [
    "# 2.- Cread tres inputs donde a cada uno de ellos le preguntéis su edad, el objetivo del ejercicio es determinar quien es el más viejo y el más joven. \n",
    "diana= int (input(\"Turno 1: Dime tu edad\"))\n",
    "yadi= int (input(\"Turno 2: Dime tu edad\"))\n",
    "ana= int (input(\"Turno 3: Dime tu edad\"))\n",
    "\n",
    "print(diana)\n",
    "print(yadi)\n",
    "print(ana)\n",
    "if diana > ana:\n",
    "    if diana>yadi:\n",
    "        print(diana, \"es la mayor\")\n",
    "    else:\n",
    "        print(yadi, \"es la menor\")\n",
    "elif ana > diana:\n",
    "    if ana > yadi:\n",
    "        print(ana,\"es la mayor\")\n",
    "    else:\n",
    "        print(yadi, \"es la menor\")\n",
    "  \n",
    "      \n",
    "if diana < ana:\n",
    "    if diana<yadi:\n",
    "        print(diana, \"es la menor\")\n",
    "    else:\n",
    "        print(yadi, \"es la mayor\")\n",
    "elif ana < diana:\n",
    "    if ana < yadi:\n",
    "        print(ana,\"es la menor\")\n",
    "    else:\n",
    "        print(yadi, \"es la mayor\")\n",
    "        \n",
    "        \n"
   ]
  },
  {
   "cell_type": "code",
   "execution_count": 1,
   "metadata": {},
   "outputs": [
    {
     "name": "stdout",
     "output_type": "stream",
     "text": [
      "El menor es  10\n",
      "El mayor es  30\n"
     ]
    }
   ],
   "source": [
    "#solucion 2\n",
    "\n",
    "turno_1= int (input(\"Turno 1: Dime tu edad\"))\n",
    "turno_2= int (input(\"Turno 2: Dime tu edad\"))\n",
    "turno_3= int (input(\"Turno 3: Dime tu edad\"))\n",
    "\n",
    "\n",
    "\n",
    "lista_edades = [turno_1,turno_2,turno_3]\n",
    "lista_edades.sort()  #se ordena la lista de mayor a menor\n",
    "print(\"El menor es \",lista_edades[0])\n",
    "print(\"El mayor es \",lista_edades[-1])"
   ]
  },
  {
   "cell_type": "code",
   "execution_count": 30,
   "metadata": {},
   "outputs": [
    {
     "name": "stdout",
     "output_type": "stream",
     "text": [
      "Bienvenido a bordo de 007\n"
     ]
    }
   ],
   "source": [
    "# 3.- Escribid un programa que pregunte el nombre del usuario a través de la función input(). \n",
    "# Si el nombre es \"Bond\" haced que imprima \"Bienvenido a bordo de 007\"En caso contrario haced que imprima \"Buenos días NOMBRE\". \n",
    "# (Reemplace NOMBRE por el nombre del usuario).\n",
    "\n",
    "nombre=input(\"Dime tu nombre\")\n",
    "agente=\"bond\"\n",
    "secreto=\"Bond\"\n",
    "if nombre == agente or nombre == secreto:\n",
    "    print(\"Bienvenido a bordo de 007\")\n",
    "else:\n",
    "    print(\"Buenos días\", nombre)"
   ]
  },
  {
   "cell_type": "code",
   "execution_count": 1,
   "metadata": {},
   "outputs": [
    {
     "name": "stdout",
     "output_type": "stream",
     "text": [
      "Las ciudades con más árboles son: ['Taiwan', 'Japan', 'Russia', 'Canada', 'Bulgaria']\n"
     ]
    }
   ],
   "source": [
    "#4.- arbol es un diccionario que muestra el número de árboles de países por kilómetro cuadrado para países aleatorios con un número considerable de población.\n",
    "# Crea una lista llamada \"masarboles\" que contenga el nombre de los países con más de 20.000 árboles por kilómetro cuadrado.\n",
    "tree = {\"Taiwan\": 69593,\n",
    "        \"Japan\": 49894, \n",
    "        \"Russia\": 41396, \n",
    "        \"Canada\": 36388, \n",
    "        \"Bulgaria\": 24987}\n",
    "arboles=\"20000\"\n",
    "\n",
    "masarboles=[]\n",
    "\n",
    "for k, v in tree.items():\n",
    "        if v >=20000:\n",
    "           masarboles.append(k)\n",
    "           \n",
    "print(\"Las ciudades con más árboles son:\",masarboles)\n"
   ]
  },
  {
   "cell_type": "code",
   "execution_count": 84,
   "metadata": {},
   "outputs": [
    {
     "name": "stdout",
     "output_type": "stream",
     "text": [
      "['y', 'a', 'd', 'i'] mujer\n",
      "Tu grupo es el B\n"
     ]
    }
   ],
   "source": [
    "\n",
    "# 5.- Los alumnos de un curso se han dividido en dos grupos A y B de acuerdo al sexo y el nombre.\n",
    "# El grupo A esta formado por las mujeres con un nombre anterior a la M y los hombres con un nombre posterior a la N y \n",
    "# el grupo B por el resto. \n",
    "# Escribid un programa que pregunte al usuario su nombre y sexo, y muestre por pantalla el grupo que le corresponde.\n",
    "\n",
    "nombre=list(input(\"Escribe tu nombre\"))\n",
    "sexo=input(\"Escribe tu sexo\")\n",
    "grupo_a_mujeres=[\"a\",\"b\",\"c\",\"d\",\"e\",\"f\",\"g\",\"h\",\"i\",\"j\",\"k\",\"l\"]\n",
    "grupo_a_hombres=[\"ñ\",\"o\",\"p\",\"q\",\"r\",\"s\",\"t\",\"u\",\"v\",\"w\",\"x\",\"y\",\"z\"]\n",
    "grupo_b_mujeres=[\"m\",\"n\",\"ñ\",\"o\",\"p\",\"q\",\"r\",\"s\",\"t\",\"u\",\"v\",\"w\",\"x\",\"y\",\"z\"]\n",
    "grupo_b_hombres=[\"a\",\"b\",\"c\",\"d\",\"e\",\"f\",\"g\",\"h\",\"i\",\"j\",\"k\",\"l\",\"m\",\"n\"]\n",
    "print(nombre, sexo)\n",
    "if nombre[0] in grupo_a_mujeres and sexo ==\"mujer\":\n",
    "    print(\"Tu grupo es el A\")\n",
    "elif nombre[0] in grupo_a_hombres and sexo == \"hombre\":\n",
    "    print(\"Tu grupo es el A\")\n",
    "elif nombre[0] in grupo_b_mujeres and sexo == \"mujer\":\n",
    "    print(\"Tu grupo es el B\")\n",
    "elif nombre[0] in grupo_b_hombres and sexo == \"hombre\":\n",
    "    print(\"Tu grupo es el B\")\n",
    "    \n"
   ]
  },
  {
   "cell_type": "code",
   "execution_count": null,
   "metadata": {},
   "outputs": [],
   "source": [
    "#solucion 2\n",
    "\n",
    "nombre=input(\"Escribe tu nombre\")\n",
    "sexo= input(\"Escribe tu sexo\")\n",
    "\n",
    "\n",
    "\n",
    "if nombre[0]<\"M\" and sexo==\"Mujer\":\n",
    "    print(\"Grupo A\")\n",
    "elif nombre[0]>\"N\" and sexo== \"Hombre\":\n",
    "    print(\"Grupo A\")    \n",
    "else :\n",
    "    print(\"Grupo B\")"
   ]
  },
  {
   "cell_type": "code",
   "execution_count": 2,
   "metadata": {},
   "outputs": [
    {
     "name": "stdout",
     "output_type": "stream",
     "text": [
      "0\n",
      "1\n",
      "2\n"
     ]
    }
   ],
   "source": [
    "\n",
    "    \n",
    "#Ejercicio 6.- Escribid un programa que:\n",
    "#Dada la variable z con valor 0, es decir z = 0.\n",
    "# Mientras que el valor de z sea menor que 3: \n",
    "# Si el valor de z es igual a 0: Printead el valor de z, Almancenad el valor en una lista auxiliar, Sumadle 1 al valor de z\n",
    "# Si el valor de z es igual a 1: Printead el valor de z, Almancenad el valor en una lista auxiliar, Sumadle 1 al valor de z. \n",
    "# En caso de que no se cumplan las condiciones anteriores: Printead el valor de z, Sumadle 1 al valor de z\n",
    "\n",
    "z=0\n",
    "listas=[]\n",
    "while z<3:\n",
    "    if z==0:\n",
    "        print(z)\n",
    "        listas.append(z)\n",
    "        z += 1\n",
    "    elif z==1:\n",
    "        print(z)\n",
    "        listas.append(z)\n",
    "        z += 1\n",
    "    else:\n",
    "        print(z)\n",
    "        z += 1"
   ]
  },
  {
   "cell_type": "code",
   "execution_count": 5,
   "metadata": {},
   "outputs": [
    {
     "name": "stdout",
     "output_type": "stream",
     "text": [
      "[0, 1, 2, 3]\n"
     ]
    }
   ],
   "source": [
    "#EJERCICIO 7 El objetivo de este ejercicio es añadir elementos a una lista utilizando el bucle while:\n",
    "#cread una lista vacia\n",
    "# Cread una variable cuyo valor sea 0.\n",
    "# Mientras que la longitud de la lista creada en el primer paso sea menor que 4:\n",
    "# Apendead el valor de la variable creada en el paso 2.\n",
    "# Sumad 1 a la variable creada en el paso 2. \n",
    "# Por último, printead los valores que hemos añadido en la lista vacía (ya no lo estaría)\n",
    "\n",
    "lista_v=[]\n",
    "cero=0\n",
    "\n",
    "while len(lista_v) <4:\n",
    "    lista_v.append(cero)\n",
    "    cero +=1\n",
    "print(lista_v)\n",
    "    "
   ]
  },
  {
   "cell_type": "code",
   "execution_count": 12,
   "metadata": {},
   "outputs": [
    {
     "name": "stdout",
     "output_type": "stream",
     "text": [
      "23\n",
      "68\n",
      "80\n",
      "90\n",
      "115\n"
     ]
    }
   ],
   "source": [
    "#Ejercicio 8: El objetivo de este ejercicio es encontrar la suma de números en una lista usando el bucle while:\n",
    "#Cread una variable cuyo valor sea 0, llamadla \"i\". \n",
    "# Cread una lista que contenga los siguientes números: 23,45,12,10,25.\n",
    "# Cread una variable cuyo valor sea 0, llamadla \"suma\".\n",
    "# Mientras que el valor de la variable \"i\" sea menor que la longitud de la lista:\n",
    "# Sumad elemento a elemento los valores de la lista. Es decir, el primero con el segundo; \n",
    "# el resultado de la suma anterior más el tercer número, etc.\n",
    "# Sumad 1 a la variable \"i\" por cada iteración por el bucle while.\n",
    "# El resultado esperado es 115.\n",
    "\n",
    "i=0\n",
    "lista_nums=[23,45,12,10,25]\n",
    "suma=0\n",
    "\n",
    "while i < len(lista_nums):\n",
    "    suma = suma + lista_nums[i]\n",
    "    i += 1\n",
    "    print(suma)\n"
   ]
  },
  {
   "cell_type": "code",
   "execution_count": 6,
   "metadata": {},
   "outputs": [
    {
     "name": "stdout",
     "output_type": "stream",
     "text": [
      "Debes pagar 10€\n"
     ]
    }
   ],
   "source": [
    "#Ejercicio 9:Escribid un programa para una empresa que tiene salas de juegos para todas las edades y quiere calcular de forma \n",
    "# automática el precio que debe cobrar a sus clientes por entrar. \n",
    "# El programa debe preguntar al usuario la edad del cliente y mostrar el precio de la entrada. \n",
    "# Si el cliente es menor de 4 años puede entrar gratis, si tiene entre 4 y 18 años debe pagar 5€ y si es mayor de 18 años, 10€.\n",
    "\n",
    "edad=int(input(\"Dime tu edad\"))\n",
    "\n",
    "if edad < 4:\n",
    "    print(\"¡Entras gratis!\")\n",
    "elif edad > 4 and edad < 18:\n",
    "    print(\"Debes pagar 5€\")\n",
    "elif edad >18:\n",
    "    print(\"Debes pagar 10€\")"
   ]
  },
  {
   "cell_type": "code",
   "execution_count": 29,
   "metadata": {},
   "outputs": [
    {
     "name": "stdout",
     "output_type": "stream",
     "text": [
      "Tu pizza no es vegetariana y llevará tomate, mozzarella y jamon\n"
     ]
    }
   ],
   "source": [
    "#Ejercicio 10: La pizzería Bella Napoli ofrece pizzas vegetarianas y no vegetarianas a sus clientes. \n",
    "# Los ingredientes para cada tipo de pizza aparecen a continuación. \n",
    "# Ingredientes vegetarianos: Pimiento y tofu. \n",
    "# Ingredientes no vegetarianos: Peperoni, Jamón y Salmón.\n",
    "# Escribid un programa que pregunte al usuario si quiere una pizza vegetariana o no, y en función de su respuesta le muestre un menú con \n",
    "# los ingredientes disponibles para que elija. Solo se puede eligir un ingrediente además de la mozzarella y el tomate que están en todas la pizzas. \n",
    "# Al final se debe mostrar por pantalla si la pizza elegida es vegetariana o no y todos los ingredientes que lleva.\n",
    "\n",
    "list_veggie=[\"pimiento\", \"tofu\"]\n",
    "list_not_veggie=[\"peperoni\", \"jamón\", \"salmón\"]\n",
    "ingrediente=str\n",
    "\n",
    "pizza=input(\"¿Quieres una pizza vegetariana? s/n\")\n",
    "\n",
    "if \"s\" == pizza or \"si\"==pizza:\n",
    "    ingrediente= input(f\"Elige un ingrediente: {list_veggie}\")\n",
    "    if ingrediente == \"tofu\":\n",
    "        print(f\"Tu es vegetariana y llevará tomate, mozzarella y {ingrediente} \")\n",
    "    if ingrediente== \"pimiento\":\n",
    "        print(f\"Tu es vegetariana y llevará tomate, mozzarella y {ingrediente} \")\n",
    "if \"n\" == pizza or \"no\"==pizza:\n",
    "    ingrediente=input(f\"Elige un ingrediente: {list_not_veggie}\")\n",
    "    if ingrediente == \"peperoni\":\n",
    "        print(f\"Tu pizza no es vegetariana y llevará tomate, mozzarella y {ingrediente}\")\n",
    "    if ingrediente== \"jamón\" or ingrediente ==\"jamon\":\n",
    "        print(f\"Tu pizza no es vegetariana y llevará tomate, mozzarella y {ingrediente}\")\n",
    "    if ingrediente== \"salmón\" or ingrediente==\"salmon\":\n",
    "        print(f\"Tu pizza no es vegetariana y llevará tomate, mozzarella y {ingrediente}\")"
   ]
  }
 ],
 "metadata": {
  "kernelspec": {
   "display_name": "Python 3.8.9 64-bit",
   "language": "python",
   "name": "python3"
  },
  "language_info": {
   "codemirror_mode": {
    "name": "ipython",
    "version": 3
   },
   "file_extension": ".py",
   "mimetype": "text/x-python",
   "name": "python",
   "nbconvert_exporter": "python",
   "pygments_lexer": "ipython3",
   "version": "3.8.9"
  },
  "orig_nbformat": 4,
  "vscode": {
   "interpreter": {
    "hash": "31f2aee4e71d21fbe5cf8b01ff0e069b9275f58929596ceb00d14d90e3e16cd6"
   }
  }
 },
 "nbformat": 4,
 "nbformat_minor": 2
}
