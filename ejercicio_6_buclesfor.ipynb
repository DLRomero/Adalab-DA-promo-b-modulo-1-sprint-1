{
 "cells": [
  {
   "cell_type": "code",
   "execution_count": 2,
   "metadata": {},
   "outputs": [
    {
     "name": "stdout",
     "output_type": "stream",
     "text": [
      "El capital total del año 1 es: 52\n",
      "El capital total del año 2 es: 53\n",
      "El capital total del año 3 es: 55\n",
      "El capital total del año 4 es: 56\n",
      "El capital total del año 5 es: 58\n"
     ]
    }
   ],
   "source": [
    "#Ejercicio 1: Escribid un programa que pregunte al usuario una cantidad a invertir, el interés anual y el número de años, \n",
    "# y muestre por pantalla el capital obtenido en la inversión cada año que dura la inversión.\n",
    "\n",
    "\n",
    "cantidad=float(input(\"Dime la cantidad a invertir\"))\n",
    "interes=float(input(\"Dime el interés anual\"))\n",
    "años=int(input(\"Dime el número de años\"))\n",
    "total=0\n",
    "\n",
    "for año in range(años):\n",
    "    ganancia=cantidad*interes/100\n",
    "    cantidad+=ganancia\n",
    "    cantidad2=round(cantidad)\n",
    "    print(f\"El capital total del año {año+1} es: {cantidad2}\")\n",
    "    "
   ]
  },
  {
   "cell_type": "code",
   "execution_count": 1,
   "metadata": {},
   "outputs": [
    {
     "name": "stdout",
     "output_type": "stream",
     "text": [
      "Dinero 51.5 en el año 1\n",
      "Dinero 53.045 en el año 2\n",
      "Dinero 54.63635 en el año 3\n",
      "Dinero 56.2754405 en el año 4\n",
      "Dinero 57.963703715 en el año 5\n",
      "Dinero total 57.963703715\n"
     ]
    }
   ],
   "source": [
    "#solucion 2 sin redondear\n",
    "\n",
    "cantidad = int(input(\"Introduce una cantidad a invertid\"))\n",
    "interes = float(input(\"Introduce un interes anual\"))\n",
    "años = int(input(\"Introduce una cantidad de años\"))\n",
    "\n",
    "for i in range(1,años+1):\n",
    "    cantidad = (interes/100 +1) * cantidad\n",
    "    print(f\"Dinero {cantidad} en el año {i}\")\n",
    "\n",
    "print(f\"Dinero total {cantidad}\")"
   ]
  },
  {
   "cell_type": "code",
   "execution_count": null,
   "metadata": {},
   "outputs": [],
   "source": [
    "#Ejercicio 2:Escribid un programa en el que se pregunte al usuario por una frase y una letra, y muestre por pantalla el número de \n",
    "# veces que aparece la letra en la frase.\n",
    "\n",
    "frase=input(\"Coloca una frase\")\n",
    "letra=input(\"coloca una letra \")\n",
    "contador=0\n",
    "\n",
    "for l in frase:\n",
    "    if letra== l:\n",
    "        contador+=1\n",
    "print(f\"La letra introducida se encuentra {contador} veces\") "
   ]
  },
  {
   "cell_type": "code",
   "execution_count": null,
   "metadata": {},
   "outputs": [],
   "source": [
    "#solucion 2 sin for\n",
    "\n",
    "frase=list(input(\"Escribe una frase\"))\n",
    "letra=input(\"Escribe una letra\")\n",
    "              \n",
    "        \n",
    "print(\"La letra aparece\", frase.count(letra), \"veces\")"
   ]
  },
  {
   "cell_type": "code",
   "execution_count": 5,
   "metadata": {},
   "outputs": [
    {
     "name": "stdout",
     "output_type": "stream",
     "text": [
      "3 x 1 = 3\n",
      "3 x 2 = 6\n",
      "3 x 3 = 9\n",
      "3 x 4 = 12\n",
      "3 x 5 = 15\n",
      "3 x 6 = 18\n",
      "3 x 7 = 21\n",
      "3 x 8 = 24\n",
      "3 x 9 = 27\n",
      "3 x 10 = 30\n"
     ]
    }
   ],
   "source": [
    "#Ejercicio 3:Escribid un programa que nos devuelva la tabla de multiplicar de un número especificado en una función input\n",
    "\n",
    "numero= int(input(\"Coloca tu número\"))\n",
    "tabla_multiplicar=[]\n",
    "\n",
    "for m in range(1,11):\n",
    "   print (f\"{numero} x {m} =\" , m * numero)\n",
    " "
   ]
  },
  {
   "cell_type": "code",
   "execution_count": 6,
   "metadata": {},
   "outputs": [
    {
     "name": "stdout",
     "output_type": "stream",
     "text": [
      "La multiplicación de 3 * 1 = 3\n",
      "La multiplicación de 3 * 2 = 6\n",
      "La multiplicación de 3 * 3 = 9\n",
      "La multiplicación de 3 * 4 = 12\n",
      "La multiplicación de 3 * 5 = 15\n",
      "La multiplicación de 3 * 6 = 18\n",
      "La multiplicación de 3 * 7 = 21\n",
      "La multiplicación de 3 * 8 = 24\n",
      "La multiplicación de 3 * 9 = 27\n",
      "La multiplicación de 3 * 10 = 30\n"
     ]
    }
   ],
   "source": [
    "#solución con lista\n",
    "\n",
    "num_usuario=int(input(\"Dame el número a multiplicar\"))\n",
    "tabla=[1,2,3,4,5,6,7,8,9,10]\n",
    "multi=0\n",
    "\n",
    "for num in tabla:\n",
    "    multi=num_usuario*num\n",
    "    print(f\"La multiplicación de {num_usuario} * {num} = {multi}\")"
   ]
  },
  {
   "cell_type": "code",
   "execution_count": 9,
   "metadata": {},
   "outputs": [
    {
     "name": "stdout",
     "output_type": "stream",
     "text": [
      "75\n",
      "150\n",
      "145\n"
     ]
    }
   ],
   "source": [
    "#Ejercicio 4: Dada la siguinte lista de números: numbers = [12, 75, 150, 180, 145, 525, 50]\n",
    "#Escribid un programa que muestre sólo los números de una lista que cumplan las siguientes condiciones. \n",
    "# El número debe ser divisible entre cinco. \n",
    "# Si el número es mayor que 150, se salta y se pasa al siguiente número.\n",
    "# Si el número es mayor que 500, entonces detenga el bucle\n",
    "\n",
    "numbers = [12, 75, 150, 180, 145, 525, 50]\n",
    "\n",
    "for num in numbers:\n",
    "    if num > 500:\n",
    "        break\n",
    "    elif num >150:\n",
    "        pass\n",
    "    elif num%5==0:\n",
    "        print(num)"
   ]
  },
  {
   "cell_type": "code",
   "execution_count": 11,
   "metadata": {},
   "outputs": [
    {
     "name": "stdout",
     "output_type": "stream",
     "text": [
      "75\n",
      "145\n"
     ]
    }
   ],
   "source": [
    "#solución 2\n",
    "\n",
    "numbers = [12, 75, 150, 180, 145, 525, 50]\n",
    "\n",
    "for n in numbers:\n",
    "    if n % 5== 0:#dame el número dividido entre 5 y si no hay un restante (es decir ==0)...\n",
    "        if n < 150:\n",
    "            pass\n",
    "            print(n)\n",
    "        elif n > 500:\n",
    "            break"
   ]
  },
  {
   "cell_type": "code",
   "execution_count": 12,
   "metadata": {},
   "outputs": [
    {
     "name": "stdout",
     "output_type": "stream",
     "text": [
      "[10, 20, 30, 40, 50]\n",
      "[50, 40, 30, 20, 10]\n"
     ]
    }
   ],
   "source": [
    "#Ejercicio 5:Dada la siguiente lista: list1 = [10, 20, 30, 40, 50] Imprimir la lista en orden inverso\n",
    "\n",
    "list1 = [10, 20, 30, 40, 50]\n",
    "print(list1)\n",
    "list1.sort(reverse=True)\n",
    "print(list1)"
   ]
  },
  {
   "cell_type": "code",
   "execution_count": 35,
   "metadata": {},
   "outputs": [],
   "source": [
    "#Ejercicio 6: Dado el siguiente código  for i in ['1','2','3']: print (i**2)\n",
    "#Usando un try ... except, cread un programa para evitar que nos de un error el código anterior. \n",
    "# En su lugar, si se encuentra un error, deberéis poner el código necesario para que no nos devuelva error. Happy coding\n",
    "\n",
    "\n",
    "for i in ['1','2','3']:\n",
    "    try: \n",
    "        print (i**2)\n",
    "    except TypeError:\n",
    "        print(int(i)**2)\n",
    "     "
   ]
  }
 ],
 "metadata": {
  "kernelspec": {
   "display_name": "Python 3.8.9 64-bit",
   "language": "python",
   "name": "python3"
  },
  "language_info": {
   "codemirror_mode": {
    "name": "ipython",
    "version": 3
   },
   "file_extension": ".py",
   "mimetype": "text/x-python",
   "name": "python",
   "nbconvert_exporter": "python",
   "pygments_lexer": "ipython3",
   "version": "3.8.9"
  },
  "orig_nbformat": 4,
  "vscode": {
   "interpreter": {
    "hash": "31f2aee4e71d21fbe5cf8b01ff0e069b9275f58929596ceb00d14d90e3e16cd6"
   }
  }
 },
 "nbformat": 4,
 "nbformat_minor": 2
}
