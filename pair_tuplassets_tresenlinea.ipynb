{
 "cells": [
  {
   "cell_type": "code",
   "execution_count": 19,
   "metadata": {},
   "outputs": [
    {
     "name": "stdout",
     "output_type": "stream",
     "text": [
      "¡Comenzamos el juego!\n",
      "-|-|-\n",
      "-|-|-\n",
      "-|-|-\n",
      "El turno del jugador: x corresponde a 2,2\n",
      "-|-|-\n",
      "-|x|-\n",
      "-|-|-\n",
      "o|-|-\n",
      "-|x|-\n",
      "-|-|-\n",
      "¡Terminamos el juego!\n",
      "Los 2 jugadores que han participado son {'x', 'o'}\n"
     ]
    }
   ],
   "source": [
    "# Variables predefinidas\n",
    "saludo= (\"¡Comenzamos el juego!\")\n",
    "despedida= (\"¡Terminamos el juego!\")\n",
    "\n",
    "# Definir el tablero con todo \"-\"\n",
    "\n",
    "tablero= [['-','-','-'],['-','-','-',],['-','-','-']]\n",
    "\n",
    "\n",
    "\n",
    "\n",
    "# Inicio del juego\n",
    "print(saludo)\n",
    "\n",
    "# Imprimir tablero\n",
    "for fila in tablero:\n",
    "    print(fila[0],fila[1], fila[2],sep=\"|\") #de acuerdo a las instrucciones, se imprimen las filas junto con un separador |\n",
    "    \n",
    "\n",
    "# Input de la usuaria\n",
    "datos_input= input(\"Coloca tu turno 'x' posicionfilas, posicioncolumnas\").split() #partimos por los espacios para obtener dos elementos, la letra y las \"coordenadas\", ponemos [1] para conservar solo la lista de coordenadas\n",
    "\n",
    "jugador= datos_input[0]\n",
    "coor=  datos_input[1]\n",
    "\n",
    "print(f\"El turno del jugador: {jugador} corresponde a {coor}\" )\n",
    "\n",
    "coor = tuple(int(num)-1 for num in coor.split(\",\"))\n",
    "\n",
    "\n",
    "# Actualizar tablero\n",
    "\n",
    "tablero[coor[0]][coor[1]]= jugador  #con esto accedemos a la coordenada del x del usuario y de la posicion que haya colocado\n",
    "\n",
    "\n",
    "\n",
    "# Imprimir tablero\n",
    "\n",
    "for fila in tablero:\n",
    "    print(fila[0],fila[1], fila[2],sep=\"|\")  #misma fórmula de arriba\n",
    "\n",
    "# Input del usuario\n",
    "\n",
    "datos_input= input(\"coloca tu turno 'o' posicionfilas, posicioncolumnas\").split()\n",
    "jugador= datos_input[0]\n",
    "coor=  datos_input[1]\n",
    "\n",
    "coor = tuple(int(co)-1 for co in coor.split(\",\"))\n",
    "\n",
    "# Actualizar tablero\n",
    "tablero[coor[0]][coor[1]]= jugador\n",
    "\n",
    "# Imprimir tablero\n",
    "for fila in tablero:\n",
    "    print(fila[0],fila[1], fila[2],sep=\"|\")\n",
    "\n",
    "# Convertir los caracteres del board a una sola lista\n",
    "board_list = sum(tablero,[]) #solo agregamos la variable tablero que fue como la nombramos\n",
    "\n",
    "\n",
    "# Sacar los elementos únicos que no sean \"-\"\n",
    "set_del_tablero=set(board_list)\n",
    "\n",
    "set_del_tablero.discard(\"-\")\n",
    "\n",
    "# Final del juego\n",
    "\n",
    "print(despedida)\n",
    "print(f\"Los 2 jugadores que han participado son {set_del_tablero}\")\n"
   ]
  }
 ],
 "metadata": {
  "kernelspec": {
   "display_name": "Python 3.8.9 64-bit",
   "language": "python",
   "name": "python3"
  },
  "language_info": {
   "codemirror_mode": {
    "name": "ipython",
    "version": 3
   },
   "file_extension": ".py",
   "mimetype": "text/x-python",
   "name": "python",
   "nbconvert_exporter": "python",
   "pygments_lexer": "ipython3",
   "version": "3.8.9"
  },
  "orig_nbformat": 4,
  "vscode": {
   "interpreter": {
    "hash": "31f2aee4e71d21fbe5cf8b01ff0e069b9275f58929596ceb00d14d90e3e16cd6"
   }
  }
 },
 "nbformat": 4,
 "nbformat_minor": 2
}
